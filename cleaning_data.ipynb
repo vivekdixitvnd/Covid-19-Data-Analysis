{
 "cells": [
  {
   "cell_type": "code",
   "execution_count": 2,
   "metadata": {},
   "outputs": [],
   "source": [
    "import pandas as pd\n",
    "import numpy as np\n",
    "import matplotlib.pyplot as plt"
   ]
  },
  {
   "cell_type": "markdown",
   "metadata": {},
   "source": [
    "# data reading"
   ]
  },
  {
   "cell_type": "code",
   "execution_count": 11,
   "metadata": {},
   "outputs": [],
   "source": [
    "df= pd.read_csv('covid19data.csv', sep=',', error_bad_lines=False, index_col=False)"
   ]
  },
  {
   "cell_type": "code",
   "execution_count": 9,
   "metadata": {},
   "outputs": [
    {
     "data": {
      "text/html": [
       "<div>\n",
       "<style scoped>\n",
       "    .dataframe tbody tr th:only-of-type {\n",
       "        vertical-align: middle;\n",
       "    }\n",
       "\n",
       "    .dataframe tbody tr th {\n",
       "        vertical-align: top;\n",
       "    }\n",
       "\n",
       "    .dataframe thead th {\n",
       "        text-align: right;\n",
       "    }\n",
       "</style>\n",
       "<table border=\"1\" class=\"dataframe\">\n",
       "  <thead>\n",
       "    <tr style=\"text-align: right;\">\n",
       "      <th></th>\n",
       "      <th>Unnamed: 0</th>\n",
       "      <th>Num Cases</th>\n",
       "      <th>Date Announced</th>\n",
       "      <th>Age Bracket</th>\n",
       "      <th>Gender</th>\n",
       "      <th>Detected City</th>\n",
       "      <th>Detected District</th>\n",
       "      <th>Detected State</th>\n",
       "      <th>Current Status</th>\n",
       "      <th>day</th>\n",
       "      <th>month</th>\n",
       "      <th>year</th>\n",
       "    </tr>\n",
       "  </thead>\n",
       "  <tbody>\n",
       "    <tr>\n",
       "      <th>0</th>\n",
       "      <td>0</td>\n",
       "      <td>1.0</td>\n",
       "      <td>30/01/2020</td>\n",
       "      <td>20</td>\n",
       "      <td>F</td>\n",
       "      <td>Thrissur</td>\n",
       "      <td>Thrissur</td>\n",
       "      <td>Kerala</td>\n",
       "      <td>Recovered</td>\n",
       "      <td>30.0</td>\n",
       "      <td>1.0</td>\n",
       "      <td>2020.0</td>\n",
       "    </tr>\n",
       "    <tr>\n",
       "      <th>1</th>\n",
       "      <td>1</td>\n",
       "      <td>1.0</td>\n",
       "      <td>02/02/2020</td>\n",
       "      <td>NaN</td>\n",
       "      <td>NaN</td>\n",
       "      <td>Alappuzha</td>\n",
       "      <td>Alappuzha</td>\n",
       "      <td>Kerala</td>\n",
       "      <td>Recovered</td>\n",
       "      <td>2.0</td>\n",
       "      <td>2.0</td>\n",
       "      <td>2020.0</td>\n",
       "    </tr>\n",
       "    <tr>\n",
       "      <th>2</th>\n",
       "      <td>2</td>\n",
       "      <td>1.0</td>\n",
       "      <td>03/02/2020</td>\n",
       "      <td>NaN</td>\n",
       "      <td>NaN</td>\n",
       "      <td>Kasaragod</td>\n",
       "      <td>Kasaragod</td>\n",
       "      <td>Kerala</td>\n",
       "      <td>Recovered</td>\n",
       "      <td>3.0</td>\n",
       "      <td>2.0</td>\n",
       "      <td>2020.0</td>\n",
       "    </tr>\n",
       "    <tr>\n",
       "      <th>3</th>\n",
       "      <td>3</td>\n",
       "      <td>1.0</td>\n",
       "      <td>02/03/2020</td>\n",
       "      <td>45</td>\n",
       "      <td>M</td>\n",
       "      <td>East Delhi (Mayur Vihar)</td>\n",
       "      <td>East Delhi</td>\n",
       "      <td>Delhi</td>\n",
       "      <td>Recovered</td>\n",
       "      <td>2.0</td>\n",
       "      <td>3.0</td>\n",
       "      <td>2020.0</td>\n",
       "    </tr>\n",
       "    <tr>\n",
       "      <th>4</th>\n",
       "      <td>4</td>\n",
       "      <td>1.0</td>\n",
       "      <td>02/03/2020</td>\n",
       "      <td>24</td>\n",
       "      <td>M</td>\n",
       "      <td>Hyderabad</td>\n",
       "      <td>Hyderabad</td>\n",
       "      <td>Telangana</td>\n",
       "      <td>Recovered</td>\n",
       "      <td>2.0</td>\n",
       "      <td>3.0</td>\n",
       "      <td>2020.0</td>\n",
       "    </tr>\n",
       "    <tr>\n",
       "      <th>...</th>\n",
       "      <td>...</td>\n",
       "      <td>...</td>\n",
       "      <td>...</td>\n",
       "      <td>...</td>\n",
       "      <td>...</td>\n",
       "      <td>...</td>\n",
       "      <td>...</td>\n",
       "      <td>...</td>\n",
       "      <td>...</td>\n",
       "      <td>...</td>\n",
       "      <td>...</td>\n",
       "      <td>...</td>\n",
       "    </tr>\n",
       "    <tr>\n",
       "      <th>353027</th>\n",
       "      <td>26619</td>\n",
       "      <td>9.0</td>\n",
       "      <td>08/10/2020</td>\n",
       "      <td>NaN</td>\n",
       "      <td>NaN</td>\n",
       "      <td>NaN</td>\n",
       "      <td>Kargil</td>\n",
       "      <td>Ladakh</td>\n",
       "      <td>Hospitalized</td>\n",
       "      <td>8.0</td>\n",
       "      <td>10.0</td>\n",
       "      <td>2020.0</td>\n",
       "    </tr>\n",
       "    <tr>\n",
       "      <th>353028</th>\n",
       "      <td>26620</td>\n",
       "      <td>29.0</td>\n",
       "      <td>08/10/2020</td>\n",
       "      <td>NaN</td>\n",
       "      <td>NaN</td>\n",
       "      <td>NaN</td>\n",
       "      <td>Leh</td>\n",
       "      <td>Ladakh</td>\n",
       "      <td>Recovered</td>\n",
       "      <td>8.0</td>\n",
       "      <td>10.0</td>\n",
       "      <td>2020.0</td>\n",
       "    </tr>\n",
       "    <tr>\n",
       "      <th>353029</th>\n",
       "      <td>26621</td>\n",
       "      <td>10.0</td>\n",
       "      <td>08/10/2020</td>\n",
       "      <td>NaN</td>\n",
       "      <td>NaN</td>\n",
       "      <td>NaN</td>\n",
       "      <td>Kargil</td>\n",
       "      <td>Ladakh</td>\n",
       "      <td>Recovered</td>\n",
       "      <td>8.0</td>\n",
       "      <td>10.0</td>\n",
       "      <td>2020.0</td>\n",
       "    </tr>\n",
       "    <tr>\n",
       "      <th>353030</th>\n",
       "      <td>26622</td>\n",
       "      <td>-8.0</td>\n",
       "      <td>08/10/2020</td>\n",
       "      <td>NaN</td>\n",
       "      <td>NaN</td>\n",
       "      <td>NaN</td>\n",
       "      <td>Solan</td>\n",
       "      <td>Himachal Pradesh</td>\n",
       "      <td>Migrated_Other</td>\n",
       "      <td>8.0</td>\n",
       "      <td>10.0</td>\n",
       "      <td>2020.0</td>\n",
       "    </tr>\n",
       "    <tr>\n",
       "      <th>353031</th>\n",
       "      <td>26623</td>\n",
       "      <td>8.0</td>\n",
       "      <td>08/10/2020</td>\n",
       "      <td>NaN</td>\n",
       "      <td>NaN</td>\n",
       "      <td>NaN</td>\n",
       "      <td>Solan</td>\n",
       "      <td>Himachal Pradesh</td>\n",
       "      <td>Recovered</td>\n",
       "      <td>8.0</td>\n",
       "      <td>10.0</td>\n",
       "      <td>2020.0</td>\n",
       "    </tr>\n",
       "  </tbody>\n",
       "</table>\n",
       "<p>353032 rows × 12 columns</p>\n",
       "</div>"
      ],
      "text/plain": [
       "        Unnamed: 0  Num Cases Date Announced Age Bracket Gender  \\\n",
       "0                0        1.0     30/01/2020          20      F   \n",
       "1                1        1.0     02/02/2020         NaN    NaN   \n",
       "2                2        1.0     03/02/2020         NaN    NaN   \n",
       "3                3        1.0     02/03/2020          45      M   \n",
       "4                4        1.0     02/03/2020          24      M   \n",
       "...            ...        ...            ...         ...    ...   \n",
       "353027       26619        9.0     08/10/2020         NaN    NaN   \n",
       "353028       26620       29.0     08/10/2020         NaN    NaN   \n",
       "353029       26621       10.0     08/10/2020         NaN    NaN   \n",
       "353030       26622       -8.0     08/10/2020         NaN    NaN   \n",
       "353031       26623        8.0     08/10/2020         NaN    NaN   \n",
       "\n",
       "                   Detected City Detected District    Detected State  \\\n",
       "0                       Thrissur          Thrissur            Kerala   \n",
       "1                      Alappuzha         Alappuzha            Kerala   \n",
       "2                      Kasaragod         Kasaragod            Kerala   \n",
       "3       East Delhi (Mayur Vihar)        East Delhi             Delhi   \n",
       "4                      Hyderabad         Hyderabad         Telangana   \n",
       "...                          ...               ...               ...   \n",
       "353027                       NaN            Kargil            Ladakh   \n",
       "353028                       NaN               Leh            Ladakh   \n",
       "353029                       NaN            Kargil            Ladakh   \n",
       "353030                       NaN             Solan  Himachal Pradesh   \n",
       "353031                       NaN             Solan  Himachal Pradesh   \n",
       "\n",
       "        Current Status   day  month    year  \n",
       "0            Recovered  30.0    1.0  2020.0  \n",
       "1            Recovered   2.0    2.0  2020.0  \n",
       "2            Recovered   3.0    2.0  2020.0  \n",
       "3            Recovered   2.0    3.0  2020.0  \n",
       "4            Recovered   2.0    3.0  2020.0  \n",
       "...                ...   ...    ...     ...  \n",
       "353027    Hospitalized   8.0   10.0  2020.0  \n",
       "353028       Recovered   8.0   10.0  2020.0  \n",
       "353029       Recovered   8.0   10.0  2020.0  \n",
       "353030  Migrated_Other   8.0   10.0  2020.0  \n",
       "353031       Recovered   8.0   10.0  2020.0  \n",
       "\n",
       "[353032 rows x 12 columns]"
      ]
     },
     "execution_count": 9,
     "metadata": {},
     "output_type": "execute_result"
    }
   ],
   "source": [
    "df"
   ]
  },
  {
   "cell_type": "markdown",
   "metadata": {},
   "source": [
    "# data slicing"
   ]
  },
  {
   "cell_type": "code",
   "execution_count": 5,
   "metadata": {},
   "outputs": [
    {
     "data": {
      "text/html": [
       "<div>\n",
       "<style scoped>\n",
       "    .dataframe tbody tr th:only-of-type {\n",
       "        vertical-align: middle;\n",
       "    }\n",
       "\n",
       "    .dataframe tbody tr th {\n",
       "        vertical-align: top;\n",
       "    }\n",
       "\n",
       "    .dataframe thead th {\n",
       "        text-align: right;\n",
       "    }\n",
       "</style>\n",
       "<table border=\"1\" class=\"dataframe\">\n",
       "  <thead>\n",
       "    <tr style=\"text-align: right;\">\n",
       "      <th></th>\n",
       "      <th>Num Cases</th>\n",
       "      <th>Date Announced</th>\n",
       "      <th>Age Bracket</th>\n",
       "      <th>Gender</th>\n",
       "      <th>Detected City</th>\n",
       "      <th>Detected District</th>\n",
       "      <th>Detected State</th>\n",
       "      <th>Current Status</th>\n",
       "      <th>day</th>\n",
       "      <th>month</th>\n",
       "      <th>year</th>\n",
       "    </tr>\n",
       "  </thead>\n",
       "  <tbody>\n",
       "    <tr>\n",
       "      <th>0</th>\n",
       "      <td>1.0</td>\n",
       "      <td>30/01/2020</td>\n",
       "      <td>20</td>\n",
       "      <td>F</td>\n",
       "      <td>Thrissur</td>\n",
       "      <td>Thrissur</td>\n",
       "      <td>Kerala</td>\n",
       "      <td>Recovered</td>\n",
       "      <td>30.0</td>\n",
       "      <td>1.0</td>\n",
       "      <td>2020.0</td>\n",
       "    </tr>\n",
       "    <tr>\n",
       "      <th>1</th>\n",
       "      <td>1.0</td>\n",
       "      <td>02/02/2020</td>\n",
       "      <td>NaN</td>\n",
       "      <td>NaN</td>\n",
       "      <td>Alappuzha</td>\n",
       "      <td>Alappuzha</td>\n",
       "      <td>Kerala</td>\n",
       "      <td>Recovered</td>\n",
       "      <td>2.0</td>\n",
       "      <td>2.0</td>\n",
       "      <td>2020.0</td>\n",
       "    </tr>\n",
       "    <tr>\n",
       "      <th>2</th>\n",
       "      <td>1.0</td>\n",
       "      <td>03/02/2020</td>\n",
       "      <td>NaN</td>\n",
       "      <td>NaN</td>\n",
       "      <td>Kasaragod</td>\n",
       "      <td>Kasaragod</td>\n",
       "      <td>Kerala</td>\n",
       "      <td>Recovered</td>\n",
       "      <td>3.0</td>\n",
       "      <td>2.0</td>\n",
       "      <td>2020.0</td>\n",
       "    </tr>\n",
       "    <tr>\n",
       "      <th>3</th>\n",
       "      <td>1.0</td>\n",
       "      <td>02/03/2020</td>\n",
       "      <td>45</td>\n",
       "      <td>M</td>\n",
       "      <td>East Delhi (Mayur Vihar)</td>\n",
       "      <td>East Delhi</td>\n",
       "      <td>Delhi</td>\n",
       "      <td>Recovered</td>\n",
       "      <td>2.0</td>\n",
       "      <td>3.0</td>\n",
       "      <td>2020.0</td>\n",
       "    </tr>\n",
       "    <tr>\n",
       "      <th>4</th>\n",
       "      <td>1.0</td>\n",
       "      <td>02/03/2020</td>\n",
       "      <td>24</td>\n",
       "      <td>M</td>\n",
       "      <td>Hyderabad</td>\n",
       "      <td>Hyderabad</td>\n",
       "      <td>Telangana</td>\n",
       "      <td>Recovered</td>\n",
       "      <td>2.0</td>\n",
       "      <td>3.0</td>\n",
       "      <td>2020.0</td>\n",
       "    </tr>\n",
       "    <tr>\n",
       "      <th>...</th>\n",
       "      <td>...</td>\n",
       "      <td>...</td>\n",
       "      <td>...</td>\n",
       "      <td>...</td>\n",
       "      <td>...</td>\n",
       "      <td>...</td>\n",
       "      <td>...</td>\n",
       "      <td>...</td>\n",
       "      <td>...</td>\n",
       "      <td>...</td>\n",
       "      <td>...</td>\n",
       "    </tr>\n",
       "    <tr>\n",
       "      <th>353027</th>\n",
       "      <td>9.0</td>\n",
       "      <td>08/10/2020</td>\n",
       "      <td>NaN</td>\n",
       "      <td>NaN</td>\n",
       "      <td>NaN</td>\n",
       "      <td>Kargil</td>\n",
       "      <td>Ladakh</td>\n",
       "      <td>Hospitalized</td>\n",
       "      <td>8.0</td>\n",
       "      <td>10.0</td>\n",
       "      <td>2020.0</td>\n",
       "    </tr>\n",
       "    <tr>\n",
       "      <th>353028</th>\n",
       "      <td>29.0</td>\n",
       "      <td>08/10/2020</td>\n",
       "      <td>NaN</td>\n",
       "      <td>NaN</td>\n",
       "      <td>NaN</td>\n",
       "      <td>Leh</td>\n",
       "      <td>Ladakh</td>\n",
       "      <td>Recovered</td>\n",
       "      <td>8.0</td>\n",
       "      <td>10.0</td>\n",
       "      <td>2020.0</td>\n",
       "    </tr>\n",
       "    <tr>\n",
       "      <th>353029</th>\n",
       "      <td>10.0</td>\n",
       "      <td>08/10/2020</td>\n",
       "      <td>NaN</td>\n",
       "      <td>NaN</td>\n",
       "      <td>NaN</td>\n",
       "      <td>Kargil</td>\n",
       "      <td>Ladakh</td>\n",
       "      <td>Recovered</td>\n",
       "      <td>8.0</td>\n",
       "      <td>10.0</td>\n",
       "      <td>2020.0</td>\n",
       "    </tr>\n",
       "    <tr>\n",
       "      <th>353030</th>\n",
       "      <td>-8.0</td>\n",
       "      <td>08/10/2020</td>\n",
       "      <td>NaN</td>\n",
       "      <td>NaN</td>\n",
       "      <td>NaN</td>\n",
       "      <td>Solan</td>\n",
       "      <td>Himachal Pradesh</td>\n",
       "      <td>Migrated_Other</td>\n",
       "      <td>8.0</td>\n",
       "      <td>10.0</td>\n",
       "      <td>2020.0</td>\n",
       "    </tr>\n",
       "    <tr>\n",
       "      <th>353031</th>\n",
       "      <td>8.0</td>\n",
       "      <td>08/10/2020</td>\n",
       "      <td>NaN</td>\n",
       "      <td>NaN</td>\n",
       "      <td>NaN</td>\n",
       "      <td>Solan</td>\n",
       "      <td>Himachal Pradesh</td>\n",
       "      <td>Recovered</td>\n",
       "      <td>8.0</td>\n",
       "      <td>10.0</td>\n",
       "      <td>2020.0</td>\n",
       "    </tr>\n",
       "  </tbody>\n",
       "</table>\n",
       "<p>353032 rows × 11 columns</p>\n",
       "</div>"
      ],
      "text/plain": [
       "        Num Cases Date Announced Age Bracket Gender             Detected City  \\\n",
       "0             1.0     30/01/2020          20      F                  Thrissur   \n",
       "1             1.0     02/02/2020         NaN    NaN                 Alappuzha   \n",
       "2             1.0     03/02/2020         NaN    NaN                 Kasaragod   \n",
       "3             1.0     02/03/2020          45      M  East Delhi (Mayur Vihar)   \n",
       "4             1.0     02/03/2020          24      M                 Hyderabad   \n",
       "...           ...            ...         ...    ...                       ...   \n",
       "353027        9.0     08/10/2020         NaN    NaN                       NaN   \n",
       "353028       29.0     08/10/2020         NaN    NaN                       NaN   \n",
       "353029       10.0     08/10/2020         NaN    NaN                       NaN   \n",
       "353030       -8.0     08/10/2020         NaN    NaN                       NaN   \n",
       "353031        8.0     08/10/2020         NaN    NaN                       NaN   \n",
       "\n",
       "       Detected District    Detected State  Current Status   day  month  \\\n",
       "0               Thrissur            Kerala       Recovered  30.0    1.0   \n",
       "1              Alappuzha            Kerala       Recovered   2.0    2.0   \n",
       "2              Kasaragod            Kerala       Recovered   3.0    2.0   \n",
       "3             East Delhi             Delhi       Recovered   2.0    3.0   \n",
       "4              Hyderabad         Telangana       Recovered   2.0    3.0   \n",
       "...                  ...               ...             ...   ...    ...   \n",
       "353027            Kargil            Ladakh    Hospitalized   8.0   10.0   \n",
       "353028               Leh            Ladakh       Recovered   8.0   10.0   \n",
       "353029            Kargil            Ladakh       Recovered   8.0   10.0   \n",
       "353030             Solan  Himachal Pradesh  Migrated_Other   8.0   10.0   \n",
       "353031             Solan  Himachal Pradesh       Recovered   8.0   10.0   \n",
       "\n",
       "          year  \n",
       "0       2020.0  \n",
       "1       2020.0  \n",
       "2       2020.0  \n",
       "3       2020.0  \n",
       "4       2020.0  \n",
       "...        ...  \n",
       "353027  2020.0  \n",
       "353028  2020.0  \n",
       "353029  2020.0  \n",
       "353030  2020.0  \n",
       "353031  2020.0  \n",
       "\n",
       "[353032 rows x 11 columns]"
      ]
     },
     "execution_count": 5,
     "metadata": {},
     "output_type": "execute_result"
    }
   ],
   "source": [
    "data=df.iloc[:,1:]\n",
    "data"
   ]
  },
  {
   "cell_type": "markdown",
   "metadata": {},
   "source": [
    "# data inspect"
   ]
  },
  {
   "cell_type": "code",
   "execution_count": 7,
   "metadata": {},
   "outputs": [
    {
     "name": "stdout",
     "output_type": "stream",
     "text": [
      "<class 'pandas.core.frame.DataFrame'>\n",
      "RangeIndex: 353032 entries, 0 to 353031\n",
      "Data columns (total 11 columns):\n",
      " #   Column             Non-Null Count   Dtype  \n",
      "---  ------             --------------   -----  \n",
      " 0   Num Cases          353024 non-null  float64\n",
      " 1   Date Announced     353028 non-null  object \n",
      " 2   Age Bracket        115025 non-null  object \n",
      " 3   Gender             117456 non-null  object \n",
      " 4   Detected City      14206 non-null   object \n",
      " 5   Detected District  342391 non-null  object \n",
      " 6   Detected State     353019 non-null  object \n",
      " 7   Current Status     353028 non-null  object \n",
      " 8   day                353028 non-null  float64\n",
      " 9   month              353028 non-null  float64\n",
      " 10  year               353028 non-null  float64\n",
      "dtypes: float64(4), object(7)\n",
      "memory usage: 20.2+ MB\n"
     ]
    }
   ],
   "source": [
    "data.info()"
   ]
  },
  {
   "cell_type": "markdown",
   "metadata": {},
   "source": [
    "# data analysis"
   ]
  },
  {
   "cell_type": "markdown",
   "metadata": {},
   "source": [
    "# null values"
   ]
  },
  {
   "cell_type": "code",
   "execution_count": 8,
   "metadata": {},
   "outputs": [
    {
     "data": {
      "text/plain": [
       "Date Announced            4\n",
       "Current Status            4\n",
       "day                       4\n",
       "month                     4\n",
       "year                      4\n",
       "Num Cases                 8\n",
       "Detected State           13\n",
       "Detected District     10641\n",
       "Gender               235576\n",
       "Age Bracket          238007\n",
       "Detected City        338826\n",
       "dtype: int64"
      ]
     },
     "execution_count": 8,
     "metadata": {},
     "output_type": "execute_result"
    }
   ],
   "source": [
    "data.isnull().sum(axis=0).sort_values()"
   ]
  },
  {
   "cell_type": "markdown",
   "metadata": {},
   "source": [
    "# data in percentage"
   ]
  },
  {
   "cell_type": "code",
   "execution_count": 9,
   "metadata": {},
   "outputs": [
    {
     "data": {
      "text/plain": [
       "Detected City        95.98\n",
       "Age Bracket          67.42\n",
       "Gender               66.73\n",
       "Detected District     3.01\n",
       "Detected State        0.00\n",
       "Num Cases             0.00\n",
       "year                  0.00\n",
       "month                 0.00\n",
       "day                   0.00\n",
       "Current Status        0.00\n",
       "Date Announced        0.00\n",
       "dtype: float64"
      ]
     },
     "execution_count": 9,
     "metadata": {},
     "output_type": "execute_result"
    }
   ],
   "source": [
    "round(data.isnull().sum(axis=0).sort_values(ascending=False )/len(data)*100,2)"
   ]
  },
  {
   "cell_type": "markdown",
   "metadata": {},
   "source": [
    "# data month wise"
   ]
  },
  {
   "cell_type": "code",
   "execution_count": 10,
   "metadata": {},
   "outputs": [
    {
     "data": {
      "text/plain": [
       "month\n",
       "1.0           1.0\n",
       "2.0           2.0\n",
       "3.0        1635.0\n",
       "4.0       36078.0\n",
       "5.0      242853.0\n",
       "6.0      663179.0\n",
       "7.0     1878473.0\n",
       "8.0     3761761.0\n",
       "9.0     5088546.0\n",
       "10.0    1234696.0\n",
       "Name: Num Cases, dtype: float64"
      ]
     },
     "execution_count": 10,
     "metadata": {},
     "output_type": "execute_result"
    }
   ],
   "source": [
    "data.groupby('month')['Num Cases'].sum()"
   ]
  },
  {
   "cell_type": "markdown",
   "metadata": {},
   "source": [
    "# Hospitalized data"
   ]
  },
  {
   "cell_type": "code",
   "execution_count": 1,
   "metadata": {},
   "outputs": [
    {
     "ename": "NameError",
     "evalue": "name 'data' is not defined",
     "output_type": "error",
     "traceback": [
      "\u001b[1;31m---------------------------------------------------------------------------\u001b[0m",
      "\u001b[1;31mNameError\u001b[0m                                 Traceback (most recent call last)",
      "\u001b[1;32m<ipython-input-1-a55c4022cf39>\u001b[0m in \u001b[0;36m<module>\u001b[1;34m\u001b[0m\n\u001b[1;32m----> 1\u001b[1;33m \u001b[0mdata\u001b[0m\u001b[1;33m[\u001b[0m\u001b[0mdata\u001b[0m\u001b[1;33m[\u001b[0m\u001b[1;34m'Current Status'\u001b[0m\u001b[1;33m]\u001b[0m\u001b[1;33m==\u001b[0m\u001b[1;34m'Hospitalized'\u001b[0m\u001b[1;33m]\u001b[0m\u001b[1;33m.\u001b[0m\u001b[0mgroupby\u001b[0m\u001b[1;33m(\u001b[0m\u001b[1;34m'month'\u001b[0m\u001b[1;33m)\u001b[0m\u001b[1;33m[\u001b[0m\u001b[1;34m'Num Cases'\u001b[0m\u001b[1;33m]\u001b[0m\u001b[1;33m.\u001b[0m\u001b[0msum\u001b[0m\u001b[1;33m(\u001b[0m\u001b[1;33m)\u001b[0m\u001b[1;33m\u001b[0m\u001b[1;33m\u001b[0m\u001b[0m\n\u001b[0m",
      "\u001b[1;31mNameError\u001b[0m: name 'data' is not defined"
     ]
    }
   ],
   "source": [
    "data[data['Current Status']=='Hospitalized'].groupby('month')['Num Cases'].sum()"
   ]
  },
  {
   "cell_type": "markdown",
   "metadata": {},
   "source": [
    "# visualization \n"
   ]
  },
  {
   "cell_type": "code",
   "execution_count": 6,
   "metadata": {},
   "outputs": [
    {
     "data": {
      "text/plain": [
       "month\n",
       "3.0        1431.0\n",
       "4.0       33209.0\n",
       "5.0      155781.0\n",
       "6.0      395144.0\n",
       "7.0     1111262.0\n",
       "8.0     1990886.0\n",
       "9.0     2622324.0\n",
       "10.0     593548.0\n",
       "Name: Num Cases, dtype: float64"
      ]
     },
     "execution_count": 6,
     "metadata": {},
     "output_type": "execute_result"
    }
   ],
   "source": [
    "g=data[data['Current Status']=='Hospitalized'].groupby('month')['Num Cases'].sum()\n",
    "g\n"
   ]
  },
  {
   "cell_type": "markdown",
   "metadata": {},
   "source": [
    "# analysis according to gander "
   ]
  },
  {
   "cell_type": "code",
   "execution_count": 7,
   "metadata": {},
   "outputs": [
    {
     "data": {
      "text/plain": [
       "Gender\n",
       "F             41071.0\n",
       "Femal e           1.0\n",
       "M             77750.0\n",
       "M                 1.0\n",
       "M,                1.0\n",
       "Non-Binary       18.0\n",
       "Name: Num Cases, dtype: float64"
      ]
     },
     "execution_count": 7,
     "metadata": {},
     "output_type": "execute_result"
    }
   ],
   "source": [
    "data.groupby('Gender')['Num Cases'].sum()"
   ]
  },
  {
   "cell_type": "code",
   "execution_count": null,
   "metadata": {},
   "outputs": [],
   "source": []
  }
 ],
 "metadata": {
  "kernelspec": {
   "display_name": "Python 3",
   "language": "python",
   "name": "python3"
  },
  "language_info": {
   "codemirror_mode": {
    "name": "ipython",
    "version": 3
   },
   "file_extension": ".py",
   "mimetype": "text/x-python",
   "name": "python",
   "nbconvert_exporter": "python",
   "pygments_lexer": "ipython3",
   "version": "3.8.5"
  }
 },
 "nbformat": 4,
 "nbformat_minor": 4
}
