{
 "cells": [
  {
   "cell_type": "markdown",
   "metadata": {},
   "source": [
    "# data prediction using regression  and multiregression"
   ]
  },
  {
   "cell_type": "code",
   "execution_count": 1,
   "metadata": {},
   "outputs": [],
   "source": [
    "import pandas as pd\n",
    "import numpy as np\n",
    "import matplotlib.pyplot as plt"
   ]
  },
  {
   "cell_type": "code",
   "execution_count": 2,
   "metadata": {},
   "outputs": [
    {
     "name": "stderr",
     "output_type": "stream",
     "text": [
      "C:\\Users\\Harun_me\\AppData\\Roaming\\Python\\Python38\\site-packages\\IPython\\core\\interactiveshell.py:3145: DtypeWarning: Columns (3) have mixed types.Specify dtype option on import or set low_memory=False.\n",
      "  has_raised = await self.run_ast_nodes(code_ast.body, cell_name,\n"
     ]
    }
   ],
   "source": [
    "df= pd.read_csv('covid19data.csv')\n"
   ]
  },
  {
   "cell_type": "code",
   "execution_count": 3,
   "metadata": {},
   "outputs": [
    {
     "data": {
      "text/html": [
       "<div>\n",
       "<style scoped>\n",
       "    .dataframe tbody tr th:only-of-type {\n",
       "        vertical-align: middle;\n",
       "    }\n",
       "\n",
       "    .dataframe tbody tr th {\n",
       "        vertical-align: top;\n",
       "    }\n",
       "\n",
       "    .dataframe thead th {\n",
       "        text-align: right;\n",
       "    }\n",
       "</style>\n",
       "<table border=\"1\" class=\"dataframe\">\n",
       "  <thead>\n",
       "    <tr style=\"text-align: right;\">\n",
       "      <th></th>\n",
       "      <th>Num Cases</th>\n",
       "      <th>Date Announced</th>\n",
       "      <th>Age Bracket</th>\n",
       "      <th>Gender</th>\n",
       "      <th>Detected City</th>\n",
       "      <th>Detected District</th>\n",
       "      <th>Detected State</th>\n",
       "      <th>Current Status</th>\n",
       "      <th>day</th>\n",
       "      <th>month</th>\n",
       "      <th>year</th>\n",
       "    </tr>\n",
       "  </thead>\n",
       "  <tbody>\n",
       "    <tr>\n",
       "      <th>0</th>\n",
       "      <td>1.0</td>\n",
       "      <td>30/01/2020</td>\n",
       "      <td>20</td>\n",
       "      <td>F</td>\n",
       "      <td>Thrissur</td>\n",
       "      <td>Thrissur</td>\n",
       "      <td>Kerala</td>\n",
       "      <td>Recovered</td>\n",
       "      <td>30.0</td>\n",
       "      <td>1.0</td>\n",
       "      <td>2020.0</td>\n",
       "    </tr>\n",
       "    <tr>\n",
       "      <th>1</th>\n",
       "      <td>1.0</td>\n",
       "      <td>02/02/2020</td>\n",
       "      <td>NaN</td>\n",
       "      <td>NaN</td>\n",
       "      <td>Alappuzha</td>\n",
       "      <td>Alappuzha</td>\n",
       "      <td>Kerala</td>\n",
       "      <td>Recovered</td>\n",
       "      <td>2.0</td>\n",
       "      <td>2.0</td>\n",
       "      <td>2020.0</td>\n",
       "    </tr>\n",
       "    <tr>\n",
       "      <th>2</th>\n",
       "      <td>1.0</td>\n",
       "      <td>03/02/2020</td>\n",
       "      <td>NaN</td>\n",
       "      <td>NaN</td>\n",
       "      <td>Kasaragod</td>\n",
       "      <td>Kasaragod</td>\n",
       "      <td>Kerala</td>\n",
       "      <td>Recovered</td>\n",
       "      <td>3.0</td>\n",
       "      <td>2.0</td>\n",
       "      <td>2020.0</td>\n",
       "    </tr>\n",
       "    <tr>\n",
       "      <th>3</th>\n",
       "      <td>1.0</td>\n",
       "      <td>02/03/2020</td>\n",
       "      <td>45</td>\n",
       "      <td>M</td>\n",
       "      <td>East Delhi (Mayur Vihar)</td>\n",
       "      <td>East Delhi</td>\n",
       "      <td>Delhi</td>\n",
       "      <td>Recovered</td>\n",
       "      <td>2.0</td>\n",
       "      <td>3.0</td>\n",
       "      <td>2020.0</td>\n",
       "    </tr>\n",
       "    <tr>\n",
       "      <th>4</th>\n",
       "      <td>1.0</td>\n",
       "      <td>02/03/2020</td>\n",
       "      <td>24</td>\n",
       "      <td>M</td>\n",
       "      <td>Hyderabad</td>\n",
       "      <td>Hyderabad</td>\n",
       "      <td>Telangana</td>\n",
       "      <td>Recovered</td>\n",
       "      <td>2.0</td>\n",
       "      <td>3.0</td>\n",
       "      <td>2020.0</td>\n",
       "    </tr>\n",
       "    <tr>\n",
       "      <th>...</th>\n",
       "      <td>...</td>\n",
       "      <td>...</td>\n",
       "      <td>...</td>\n",
       "      <td>...</td>\n",
       "      <td>...</td>\n",
       "      <td>...</td>\n",
       "      <td>...</td>\n",
       "      <td>...</td>\n",
       "      <td>...</td>\n",
       "      <td>...</td>\n",
       "      <td>...</td>\n",
       "    </tr>\n",
       "    <tr>\n",
       "      <th>353027</th>\n",
       "      <td>9.0</td>\n",
       "      <td>08/10/2020</td>\n",
       "      <td>NaN</td>\n",
       "      <td>NaN</td>\n",
       "      <td>NaN</td>\n",
       "      <td>Kargil</td>\n",
       "      <td>Ladakh</td>\n",
       "      <td>Hospitalized</td>\n",
       "      <td>8.0</td>\n",
       "      <td>10.0</td>\n",
       "      <td>2020.0</td>\n",
       "    </tr>\n",
       "    <tr>\n",
       "      <th>353028</th>\n",
       "      <td>29.0</td>\n",
       "      <td>08/10/2020</td>\n",
       "      <td>NaN</td>\n",
       "      <td>NaN</td>\n",
       "      <td>NaN</td>\n",
       "      <td>Leh</td>\n",
       "      <td>Ladakh</td>\n",
       "      <td>Recovered</td>\n",
       "      <td>8.0</td>\n",
       "      <td>10.0</td>\n",
       "      <td>2020.0</td>\n",
       "    </tr>\n",
       "    <tr>\n",
       "      <th>353029</th>\n",
       "      <td>10.0</td>\n",
       "      <td>08/10/2020</td>\n",
       "      <td>NaN</td>\n",
       "      <td>NaN</td>\n",
       "      <td>NaN</td>\n",
       "      <td>Kargil</td>\n",
       "      <td>Ladakh</td>\n",
       "      <td>Recovered</td>\n",
       "      <td>8.0</td>\n",
       "      <td>10.0</td>\n",
       "      <td>2020.0</td>\n",
       "    </tr>\n",
       "    <tr>\n",
       "      <th>353030</th>\n",
       "      <td>-8.0</td>\n",
       "      <td>08/10/2020</td>\n",
       "      <td>NaN</td>\n",
       "      <td>NaN</td>\n",
       "      <td>NaN</td>\n",
       "      <td>Solan</td>\n",
       "      <td>Himachal Pradesh</td>\n",
       "      <td>Migrated_Other</td>\n",
       "      <td>8.0</td>\n",
       "      <td>10.0</td>\n",
       "      <td>2020.0</td>\n",
       "    </tr>\n",
       "    <tr>\n",
       "      <th>353031</th>\n",
       "      <td>8.0</td>\n",
       "      <td>08/10/2020</td>\n",
       "      <td>NaN</td>\n",
       "      <td>NaN</td>\n",
       "      <td>NaN</td>\n",
       "      <td>Solan</td>\n",
       "      <td>Himachal Pradesh</td>\n",
       "      <td>Recovered</td>\n",
       "      <td>8.0</td>\n",
       "      <td>10.0</td>\n",
       "      <td>2020.0</td>\n",
       "    </tr>\n",
       "  </tbody>\n",
       "</table>\n",
       "<p>353032 rows × 11 columns</p>\n",
       "</div>"
      ],
      "text/plain": [
       "        Num Cases Date Announced Age Bracket Gender             Detected City  \\\n",
       "0             1.0     30/01/2020          20      F                  Thrissur   \n",
       "1             1.0     02/02/2020         NaN    NaN                 Alappuzha   \n",
       "2             1.0     03/02/2020         NaN    NaN                 Kasaragod   \n",
       "3             1.0     02/03/2020          45      M  East Delhi (Mayur Vihar)   \n",
       "4             1.0     02/03/2020          24      M                 Hyderabad   \n",
       "...           ...            ...         ...    ...                       ...   \n",
       "353027        9.0     08/10/2020         NaN    NaN                       NaN   \n",
       "353028       29.0     08/10/2020         NaN    NaN                       NaN   \n",
       "353029       10.0     08/10/2020         NaN    NaN                       NaN   \n",
       "353030       -8.0     08/10/2020         NaN    NaN                       NaN   \n",
       "353031        8.0     08/10/2020         NaN    NaN                       NaN   \n",
       "\n",
       "       Detected District    Detected State  Current Status   day  month  \\\n",
       "0               Thrissur            Kerala       Recovered  30.0    1.0   \n",
       "1              Alappuzha            Kerala       Recovered   2.0    2.0   \n",
       "2              Kasaragod            Kerala       Recovered   3.0    2.0   \n",
       "3             East Delhi             Delhi       Recovered   2.0    3.0   \n",
       "4              Hyderabad         Telangana       Recovered   2.0    3.0   \n",
       "...                  ...               ...             ...   ...    ...   \n",
       "353027            Kargil            Ladakh    Hospitalized   8.0   10.0   \n",
       "353028               Leh            Ladakh       Recovered   8.0   10.0   \n",
       "353029            Kargil            Ladakh       Recovered   8.0   10.0   \n",
       "353030             Solan  Himachal Pradesh  Migrated_Other   8.0   10.0   \n",
       "353031             Solan  Himachal Pradesh       Recovered   8.0   10.0   \n",
       "\n",
       "          year  \n",
       "0       2020.0  \n",
       "1       2020.0  \n",
       "2       2020.0  \n",
       "3       2020.0  \n",
       "4       2020.0  \n",
       "...        ...  \n",
       "353027  2020.0  \n",
       "353028  2020.0  \n",
       "353029  2020.0  \n",
       "353030  2020.0  \n",
       "353031  2020.0  \n",
       "\n",
       "[353032 rows x 11 columns]"
      ]
     },
     "execution_count": 3,
     "metadata": {},
     "output_type": "execute_result"
    }
   ],
   "source": [
    "data=df.iloc[:,1:]\n",
    "data"
   ]
  },
  {
   "cell_type": "markdown",
   "metadata": {},
   "source": [
    "# number of cases  group by month and date"
   ]
  },
  {
   "cell_type": "code",
   "execution_count": 4,
   "metadata": {},
   "outputs": [
    {
     "data": {
      "text/plain": [
       "month  day \n",
       "1.0    30.0         1.0\n",
       "2.0    2.0          1.0\n",
       "       3.0          1.0\n",
       "3.0    2.0          2.0\n",
       "       3.0          1.0\n",
       "                 ...   \n",
       "10.0   4.0     152399.0\n",
       "       5.0     136877.0\n",
       "       6.0     154823.0\n",
       "       7.0     163073.0\n",
       "       8.0     150531.0\n",
       "Name: Num Cases, Length: 224, dtype: float64"
      ]
     },
     "execution_count": 4,
     "metadata": {},
     "output_type": "execute_result"
    }
   ],
   "source": [
    "data.groupby(['month','day'])['Num Cases'].sum()\n"
   ]
  },
  {
   "cell_type": "markdown",
   "metadata": {},
   "source": [
    "# number of cases who is Hospitalized "
   ]
  },
  {
   "cell_type": "code",
   "execution_count": 5,
   "metadata": {},
   "outputs": [
    {
     "data": {
      "text/plain": [
       "month  day \n",
       "3.0    4.0         5.0\n",
       "       5.0         1.0\n",
       "       7.0         2.0\n",
       "       9.0         4.0\n",
       "       10.0        4.0\n",
       "                ...   \n",
       "10.0   4.0     74770.0\n",
       "       5.0     60130.0\n",
       "       6.0     71869.0\n",
       "       7.0     78809.0\n",
       "       8.0     70824.0\n",
       "Name: Num Cases, Length: 217, dtype: float64"
      ]
     },
     "execution_count": 5,
     "metadata": {},
     "output_type": "execute_result"
    }
   ],
   "source": [
    "Day=data[data['Current Status']=='Hospitalized'].groupby(['month','day'])['Num Cases'].sum()\n",
    "Day"
   ]
  },
  {
   "cell_type": "code",
   "execution_count": 13,
   "metadata": {},
   "outputs": [
    {
     "data": {
      "text/plain": [
       "array([  0,   1,   2,   3,   4,   5,   6,   7,   8,   9,  10,  11,  12,\n",
       "        13,  14,  15,  16,  17,  18,  19,  20,  21,  22,  23,  24,  25,\n",
       "        26,  27,  28,  29,  30,  31,  32,  33,  34,  35,  36,  37,  38,\n",
       "        39,  40,  41,  42,  43,  44,  45,  46,  47,  48,  49,  50,  51,\n",
       "        52,  53,  54,  55,  56,  57,  58,  59,  60,  61,  62,  63,  64,\n",
       "        65,  66,  67,  68,  69,  70,  71,  72,  73,  74,  75,  76,  77,\n",
       "        78,  79,  80,  81,  82,  83,  84,  85,  86,  87,  88,  89,  90,\n",
       "        91,  92,  93,  94,  95,  96,  97,  98,  99, 100, 101, 102, 103,\n",
       "       104, 105, 106, 107, 108, 109, 110, 111, 112, 113, 114, 115, 116,\n",
       "       117, 118, 119, 120, 121, 122, 123, 124, 125, 126, 127, 128, 129,\n",
       "       130, 131, 132, 133, 134, 135, 136, 137, 138, 139, 140, 141, 142,\n",
       "       143, 144, 145, 146, 147, 148, 149, 150, 151, 152, 153, 154, 155,\n",
       "       156, 157, 158, 159, 160, 161, 162, 163, 164, 165, 166, 167, 168,\n",
       "       169, 170, 171, 172, 173, 174, 175, 176, 177, 178, 179, 180, 181,\n",
       "       182, 183, 184, 185, 186, 187, 188, 189, 190, 191, 192, 193, 194,\n",
       "       195, 196, 197, 198, 199, 200, 201, 202, 203, 204, 205, 206, 207,\n",
       "       208, 209, 210, 211, 212, 213, 214, 215, 216])"
      ]
     },
     "execution_count": 13,
     "metadata": {},
     "output_type": "execute_result"
    }
   ],
   "source": [
    "x=np.arange(len(Day))\n",
    "x"
   ]
  },
  {
   "cell_type": "code",
   "execution_count": 14,
   "metadata": {},
   "outputs": [
    {
     "data": {
      "text/plain": [
       "array([5.0000e+00, 1.0000e+00, 2.0000e+00, 4.0000e+00, 4.0000e+00,\n",
       "       8.0000e+00, 4.0000e+00, 6.0000e+00, 1.1000e+01, 8.0000e+00,\n",
       "       1.2000e+01, 1.4000e+01, 2.2000e+01, 2.1000e+01, 5.2000e+01,\n",
       "       6.7000e+01, 5.9000e+01, 8.2000e+01, 6.3000e+01, 7.5000e+01,\n",
       "       5.8000e+01, 1.4000e+02, 1.2300e+02, 1.0600e+02, 1.7800e+02,\n",
       "       3.0600e+02, 4.2300e+02, 4.8500e+02, 5.5600e+02, 5.7600e+02,\n",
       "       6.0600e+02, 4.8500e+02, 5.7000e+02, 5.6300e+02, 8.1200e+02,\n",
       "       8.7000e+02, 8.5300e+02, 7.5800e+02, 1.2430e+03, 1.0310e+03,\n",
       "       8.8400e+02, 1.0610e+03, 9.2200e+02, 1.3700e+03, 1.5790e+03,\n",
       "       1.2390e+03, 1.5370e+03, 1.2920e+03, 1.6670e+03, 1.4080e+03,\n",
       "       1.8350e+03, 1.6070e+03, 1.5680e+03, 1.9020e+03, 1.7050e+03,\n",
       "       1.8020e+03, 2.3960e+03, 2.5640e+03, 2.9520e+03, 3.6560e+03,\n",
       "       2.9710e+03, 3.6020e+03, 3.3440e+03, 3.3390e+03, 3.1750e+03,\n",
       "       4.3110e+03, 3.5920e+03, 3.5620e+03, 3.7260e+03, 3.9910e+03,\n",
       "       3.8080e+03, 4.7940e+03, 5.0490e+03, 4.6280e+03, 6.1540e+03,\n",
       "       5.7200e+03, 6.0230e+03, 6.5360e+03, 6.6650e+03, 7.1110e+03,\n",
       "       6.4140e+03, 5.9070e+03, 7.2460e+03, 7.2540e+03, 8.1380e+03,\n",
       "       8.3640e+03, 8.7890e+03, 7.7230e+03, 8.8120e+03, 9.6890e+03,\n",
       "       9.8470e+03, 9.4720e+03, 1.0408e+04, 1.0882e+04, 8.5360e+03,\n",
       "       9.9810e+03, 1.1156e+04, 1.1135e+04, 1.1306e+04, 1.2039e+04,\n",
       "       1.1404e+04, 1.0032e+04, 1.1085e+04, 1.3108e+04, 1.3829e+04,\n",
       "       1.4740e+04, 1.5918e+04, 1.5151e+04, 1.3560e+04, 1.5656e+04,\n",
       "       1.6868e+04, 1.8205e+04, 1.8255e+04, 2.0142e+04, 1.9610e+04,\n",
       "       1.8339e+04, 1.8256e+04, 1.9429e+04, 2.1947e+04, 2.2718e+04,\n",
       "       2.4018e+04, 2.3942e+04, 2.2500e+04, 2.3145e+04, 2.5561e+04,\n",
       "       2.5790e+04, 2.7749e+04, 2.7757e+04, 2.9106e+04, 2.8178e+04,\n",
       "       2.9917e+04, 3.2607e+04, 3.5468e+04, 3.4824e+04, 3.7411e+04,\n",
       "       4.0235e+04, 3.6806e+04, 3.9170e+04, 4.5601e+04, 4.8443e+04,\n",
       "       4.8888e+04, 5.0072e+04, 4.8932e+04, 4.6484e+04, 4.9631e+04,\n",
       "       5.2479e+04, 5.4968e+04, 5.7486e+04, 5.5117e+04, 5.2672e+04,\n",
       "       5.0489e+04, 5.1282e+04, 5.6626e+04, 6.2170e+04, 6.1455e+04,\n",
       "       6.5156e+04, 6.2117e+04, 5.3016e+04, 6.1252e+04, 6.7066e+04,\n",
       "       6.4141e+04, 6.5610e+04, 6.3986e+04, 5.8096e+04, 5.4298e+04,\n",
       "       6.5024e+04, 6.9196e+04, 6.8518e+04, 6.9029e+04, 7.0067e+04,\n",
       "       6.1749e+04, 5.9696e+04, 6.6873e+04, 7.5995e+04, 7.6827e+04,\n",
       "       7.6657e+04, 7.8479e+04, 7.9461e+04, 6.8766e+04, 7.8168e+04,\n",
       "       8.2865e+04, 8.4159e+04, 8.7107e+04, 9.0606e+04, 9.1725e+04,\n",
       "       7.5015e+04, 8.9855e+04, 9.5536e+04, 9.6762e+04, 9.7655e+04,\n",
       "       9.4414e+04, 9.3220e+04, 8.1909e+04, 9.1097e+04, 9.7860e+04,\n",
       "       9.6787e+04, 9.2973e+04, 9.2574e+04, 8.7395e+04, 7.4493e+04,\n",
       "       8.3362e+04, 8.6703e+04, 8.5921e+04, 8.5717e+04, 8.8759e+04,\n",
       "       8.2770e+04, 6.9669e+04, 8.0500e+04, 8.6748e+04, 8.1784e+04,\n",
       "       7.9883e+04, 7.5479e+04, 7.4770e+04, 6.0130e+04, 7.1869e+04,\n",
       "       7.8809e+04, 7.0824e+04])"
      ]
     },
     "execution_count": 14,
     "metadata": {},
     "output_type": "execute_result"
    }
   ],
   "source": [
    "y=Day.values\n",
    "y"
   ]
  },
  {
   "cell_type": "code",
   "execution_count": 15,
   "metadata": {},
   "outputs": [],
   "source": [
    "from sklearn.preprocessing import PolynomialFeatures"
   ]
  },
  {
   "cell_type": "code",
   "execution_count": 16,
   "metadata": {},
   "outputs": [
    {
     "data": {
      "text/plain": [
       "array([[1.00000000e+00, 0.00000000e+00, 0.00000000e+00, ...,\n",
       "        0.00000000e+00, 0.00000000e+00, 0.00000000e+00],\n",
       "       [1.00000000e+00, 1.00000000e+00, 1.00000000e+00, ...,\n",
       "        1.00000000e+00, 1.00000000e+00, 1.00000000e+00],\n",
       "       [1.00000000e+00, 2.00000000e+00, 4.00000000e+00, ...,\n",
       "        6.40000000e+01, 1.28000000e+02, 2.56000000e+02],\n",
       "       ...,\n",
       "       [1.00000000e+00, 2.14000000e+02, 4.57960000e+04, ...,\n",
       "        9.60467425e+13, 2.05540029e+16, 4.39855662e+18],\n",
       "       [1.00000000e+00, 2.15000000e+02, 4.62250000e+04, ...,\n",
       "        9.87712976e+13, 2.12358290e+16, 4.56570323e+18],\n",
       "       [1.00000000e+00, 2.16000000e+02, 4.66560000e+04, ...,\n",
       "        1.01559957e+14, 2.19369506e+16, 4.73838134e+18]])"
      ]
     },
     "execution_count": 16,
     "metadata": {},
     "output_type": "execute_result"
    }
   ],
   "source": [
    "poly=PolynomialFeatures(degree=8)\n",
    "X=poly.fit_transform(x.reshape(-1,1))\n",
    "X"
   ]
  },
  {
   "cell_type": "code",
   "execution_count": 17,
   "metadata": {},
   "outputs": [],
   "source": [
    "from sklearn.linear_model import LinearRegression "
   ]
  },
  {
   "cell_type": "code",
   "execution_count": 18,
   "metadata": {},
   "outputs": [
    {
     "data": {
      "text/plain": [
       "LinearRegression()"
      ]
     },
     "execution_count": 18,
     "metadata": {},
     "output_type": "execute_result"
    }
   ],
   "source": [
    "reg=LinearRegression ()\n",
    "reg.fit(X,y)"
   ]
  },
  {
   "cell_type": "code",
   "execution_count": 55,
   "metadata": {},
   "outputs": [
    {
     "data": {
      "text/plain": [
       "array([ 0.00000000e+00, -1.58880695e+02,  8.97140279e+00, -1.63603958e-01,\n",
       "        1.36398100e-03, -3.48129072e-06])"
      ]
     },
     "execution_count": 55,
     "metadata": {},
     "output_type": "execute_result"
    }
   ],
   "source": [
    "reg.coef_"
   ]
  },
  {
   "cell_type": "code",
   "execution_count": 56,
   "metadata": {},
   "outputs": [
    {
     "data": {
      "text/plain": [
       "616.2158176539851"
      ]
     },
     "execution_count": 56,
     "metadata": {},
     "output_type": "execute_result"
    }
   ],
   "source": [
    "reg.intercept_"
   ]
  },
  {
   "cell_type": "code",
   "execution_count": 19,
   "metadata": {},
   "outputs": [
    {
     "data": {
      "text/plain": [
       "array([-4.48298721e+02, -4.48158417e+02, -4.47241148e+02, -4.44878464e+02,\n",
       "       -4.40498758e+02, -4.33620189e+02, -4.23843904e+02, -4.10847538e+02,\n",
       "       -3.94378997e+02, -3.74250511e+02, -3.50332956e+02, -3.22550425e+02,\n",
       "       -2.90875062e+02, -2.55322138e+02, -2.15945359e+02, -1.72832420e+02,\n",
       "       -1.26100774e+02, -7.58936318e+01, -2.23761655e+01,  3.42680693e+01,\n",
       "        9.38405143e+01,  1.56130791e+02,  2.20919690e+02,  2.87981980e+02,\n",
       "        3.57089030e+02,  4.28011265e+02,  5.00520442e+02,  5.74391776e+02,\n",
       "        6.49405897e+02,  7.25350658e+02,  8.02022796e+02,  8.79229449e+02,\n",
       "        9.56789535e+02,  1.03453500e+03,  1.11231194e+03,  1.18998158e+03,\n",
       "        1.26742118e+03,  1.34452477e+03,  1.42120384e+03,  1.49738784e+03,\n",
       "        1.57302467e+03,  1.64808102e+03,  1.72254264e+03,  1.79641448e+03,\n",
       "        1.86972084e+03,  1.94250534e+03,  2.01483086e+03,  2.08677941e+03,\n",
       "        2.15845193e+03,  2.22996804e+03,  2.30146567e+03,  2.37310072e+03,\n",
       "        2.44504661e+03,  2.51749376e+03,  2.59064914e+03,  2.66473561e+03,\n",
       "        2.73999134e+03,  2.81666918e+03,  2.89503593e+03,  2.97537168e+03,\n",
       "        3.05796901e+03,  3.14313227e+03,  3.23117678e+03,  3.32242799e+03,\n",
       "        3.41722069e+03,  3.51589819e+03,  3.61881142e+03,  3.72631808e+03,\n",
       "        3.83878184e+03,  3.95657137e+03,  4.08005956e+03,  4.20962259e+03,\n",
       "        4.34563907e+03,  4.48848921e+03,  4.63855392e+03,  4.79621396e+03,\n",
       "        4.96184912e+03,  5.13583739e+03,  5.31855410e+03,  5.51037118e+03,\n",
       "        5.71165630e+03,  5.92277217e+03,  6.14407571e+03,  6.37591739e+03,\n",
       "        6.61864047e+03,  6.87258032e+03,  7.13806375e+03,  7.41540839e+03,\n",
       "        7.70492203e+03,  8.00690205e+03,  8.32163485e+03,  8.64939531e+03,\n",
       "        8.99044625e+03,  9.34503800e+03,  9.71340786e+03,  1.00957798e+04,\n",
       "        1.04923638e+04,  1.09033559e+04,  1.13289375e+04,  1.17692750e+04,\n",
       "        1.22245200e+04,  1.26948084e+04,  1.31802607e+04,  1.36809815e+04,\n",
       "        1.41970596e+04,  1.47285674e+04,  1.52755612e+04,  1.58380812e+04,\n",
       "        1.64161509e+04,  1.70097776e+04,  1.76189520e+04,  1.82436486e+04,\n",
       "        1.88838254e+04,  1.95394241e+04,  2.02103703e+04,  2.08965733e+04,\n",
       "        2.15979265e+04,  2.23143074e+04,  2.30455776e+04,  2.37915835e+04,\n",
       "        2.45521558e+04,  2.53271102e+04,  2.61162474e+04,  2.69193531e+04,\n",
       "        2.77361988e+04,  2.85665413e+04,  2.94101236e+04,  3.02666745e+04,\n",
       "        3.11359093e+04,  3.20175298e+04,  3.29112245e+04,  3.38166690e+04,\n",
       "        3.47335257e+04,  3.56614447e+04,  3.66000634e+04,  3.75490066e+04,\n",
       "        3.85078873e+04,  3.94763060e+04,  4.04538512e+04,  4.14400993e+04,\n",
       "        4.24346146e+04,  4.34369496e+04,  4.44466443e+04,  4.54632268e+04,\n",
       "        4.64862123e+04,  4.75151040e+04,  4.85493917e+04,  4.95885523e+04,\n",
       "        5.06320492e+04,  5.16793315e+04,  5.27298341e+04,  5.37829767e+04,\n",
       "        5.48381634e+04,  5.58947818e+04,  5.69522021e+04,  5.80097767e+04,\n",
       "        5.90668385e+04,  6.01227005e+04,  6.11766542e+04,  6.22279684e+04,\n",
       "        6.32758878e+04,  6.43196316e+04,  6.53583919e+04,  6.63913317e+04,\n",
       "        6.74175833e+04,  6.84362460e+04,  6.94463845e+04,  7.04470260e+04,\n",
       "        7.14371581e+04,  7.24157261e+04,  7.33816304e+04,  7.43337235e+04,\n",
       "        7.52708069e+04,  7.61916280e+04,  7.70948766e+04,  7.79791810e+04,\n",
       "        7.88431049e+04,  7.96851427e+04,  8.05037157e+04,  8.12971676e+04,\n",
       "        8.20637598e+04,  8.28016669e+04,  8.35089711e+04,  8.41836573e+04,\n",
       "        8.48236076e+04,  8.54265952e+04,  8.59902788e+04,  8.65121959e+04,\n",
       "        8.69897566e+04,  8.74202365e+04,  8.78007699e+04,  8.81283421e+04,\n",
       "        8.83997820e+04,  8.86117541e+04,  8.87607499e+04,  8.88430799e+04,\n",
       "        8.88548641e+04,  8.87920233e+04,  8.86502692e+04,  8.84250945e+04,\n",
       "        8.81117628e+04,  8.77052981e+04,  8.72004733e+04,  8.65917996e+04,\n",
       "        8.58735142e+04,  8.50395684e+04,  8.40836152e+04,  8.29989963e+04,\n",
       "        8.17787287e+04,  8.04154910e+04,  7.89016095e+04,  7.72290433e+04,\n",
       "        7.53893694e+04,  7.33737669e+04,  7.11730018e+04,  6.87774097e+04,\n",
       "        6.61768795e+04])"
      ]
     },
     "execution_count": 19,
     "metadata": {},
     "output_type": "execute_result"
    }
   ],
   "source": [
    "yp=reg.predict(X)\n",
    "yp"
   ]
  },
  {
   "cell_type": "code",
   "execution_count": 20,
   "metadata": {},
   "outputs": [
    {
     "data": {
      "image/png": "[encoded data removed]",
      "text/plain": [
       "<Figure size 432x288 with 1 Axes>"
      ]
     },
     "metadata": {
      "needs_background": "light"
     },
     "output_type": "display_data"
    }
   ],
   "source": [
    "plt.scatter(x,y)\n",
    "plt.plot(x,yp,color='r')\n",
    "plt.show()"
   ]
  },
  {
   "cell_type": "code",
   "execution_count": 73,
   "metadata": {},
   "outputs": [
    {
     "data": {
      "text/plain": [
       "98.65550672917274"
      ]
     },
     "execution_count": 73,
     "metadata": {},
     "output_type": "execute_result"
    }
   ],
   "source": [
    "reg.score(X,y)*100"
   ]
  },
  {
   "cell_type": "code",
   "execution_count": 24,
   "metadata": {},
   "outputs": [
    {
     "data": {
      "text/plain": [
       "array([802.02279576])"
      ]
     },
     "execution_count": 24,
     "metadata": {},
     "output_type": "execute_result"
    }
   ],
   "source": [
    "reg.predict(poly.transform([[30]]))"
   ]
  },
  {
   "cell_type": "code",
   "execution_count": 96,
   "metadata": {},
   "outputs": [
    {
     "data": {
      "text/plain": [
       "array([53506.52722528])"
      ]
     },
     "execution_count": 96,
     "metadata": {},
     "output_type": "execute_result"
    }
   ],
   "source": [
    "reg.predict(poly.transform([[230]]))"
   ]
  },
  {
   "cell_type": "code",
   "execution_count": null,
   "metadata": {},
   "outputs": [],
   "source": []
  }
 ],
 "metadata": {
  "kernelspec": {
   "display_name": "Python 3",
   "language": "python",
   "name": "python3"
  },
  "language_info": {
   "codemirror_mode": {
    "name": "ipython",
    "version": 3
   },
   "file_extension": ".py",
   "mimetype": "text/x-python",
   "name": "python",
   "nbconvert_exporter": "python",
   "pygments_lexer": "ipython3",
   "version": "3.8.5"
  }
 },
 "nbformat": 4,
 "nbformat_minor": 4
}
